{
  "nbformat": 4,
  "nbformat_minor": 0,
  "metadata": {
    "kernelspec": {
      "name": "python3",
      "display_name": "Python 3",
      "language": "python"
    },
    "language_info": {
      "name": "python",
      "version": "3.7.6",
      "mimetype": "text/x-python",
      "codemirror_mode": {
        "name": "ipython",
        "version": 3
      },
      "pygments_lexer": "ipython3",
      "nbconvert_exporter": "python",
      "file_extension": ".py"
    },
    "colab": {
      "name": "twitter_covid19_discourse_1.ipynb",
      "provenance": [],
      "collapsed_sections": []
    }
  },
  "cells": [
    {
      "cell_type": "code",
      "metadata": {
        "trusted": true,
        "id": "_bAQljGQv1i-"
      },
      "source": [
        "import pandas as pd\n",
        "import numpy as np\n",
        "import re \n",
        "import nltk \n",
        "from sklearn.pipeline import Pipeline\n",
        "from sklearn.feature_extraction.text import CountVectorizer, TfidfVectorizer\n",
        "from sklearn.linear_model import LogisticRegression\n",
        "from sklearn.model_selection import train_test_split, cross_val_score, KFold\n",
        "\n",
        "\n",
        "from io import StringIO\n",
        "from sklearn.feature_extraction.text import TfidfVectorizer\n",
        "from sklearn.feature_selection import chi2\n",
        "from IPython.display import display\n",
        "from sklearn.model_selection import train_test_split\n",
        "from sklearn.feature_extraction.text import TfidfTransformer\n",
        "from sklearn.naive_bayes import MultinomialNB\n",
        "from sklearn.linear_model import LogisticRegression\n",
        "from sklearn.ensemble import RandomForestClassifier\n",
        "from sklearn.svm import LinearSVC\n",
        "from sklearn.model_selection import cross_val_score\n",
        "from sklearn.metrics import confusion_matrix\n",
        "from sklearn import metrics\n",
        "\n",
        "from sklearn.decomposition import PCA, TruncatedSVD\n",
        "from sklearn.metrics import classification_report,confusion_matrix\n",
        "import matplotlib.pyplot as plt\n",
        "%matplotlib inline\n",
        "import seaborn as sns\n",
        "plt.style.use('ggplot')\n",
        "import matplotlib.patches as mpatches"
      ],
      "execution_count": 1,
      "outputs": []
    },
    {
      "cell_type": "code",
      "metadata": {
        "id": "aSuEejEKOXQV"
      },
      "source": [
        "# load the dataset after hydrating "
      ],
      "execution_count": null,
      "outputs": []
    },
    {
      "cell_type": "code",
      "metadata": {
        "_kg_hide-input": true,
        "trusted": true,
        "id": "iDq7T1DCv1jB"
      },
      "source": [
        "train=pd.read_csv(\"Corona_train.csv\",encoding='latin1')\n",
        "test=pd.read_csv(\"Corona_test.csv\",encoding='latin1')"
      ],
      "execution_count": 3,
      "outputs": []
    },
    {
      "cell_type": "code",
      "metadata": {
        "_kg_hide-input": false,
        "trusted": true,
        "id": "HnH140Frv1jC",
        "colab": {
          "base_uri": "https://localhost:8080/"
        },
        "outputId": "bc8263e4-8964-4739-cfe0-d604aab486df"
      },
      "source": [
        "train['text'] = train.OriginalTweet\n",
        "train[\"text\"] = train[\"text\"].astype(str)\n",
        "\n",
        "test['text'] = test.OriginalTweet\n",
        "test[\"text\"] = test[\"text\"].astype(str)\n",
        "\n",
        "# Data has 5 classes, let's convert them to 3\n",
        "\n",
        "def classes_def(x):\n",
        "    if x ==  \"Extremely Positive\":\n",
        "        return \"2\"\n",
        "    elif x == \"Extremely Negative\":\n",
        "        return \"0\"\n",
        "    elif x == \"Negative\":\n",
        "        return \"0\"\n",
        "    elif x ==  \"Positive\":\n",
        "        return \"2\"\n",
        "    else:\n",
        "        return \"1\"\n",
        "    \n",
        "\n",
        "train['label']=train['Sentiment'].apply(lambda x:classes_def(x))\n",
        "test['label']=test['Sentiment'].apply(lambda x:classes_def(x))\n",
        "\n",
        "\n",
        "train.label.value_counts(normalize= True)"
      ],
      "execution_count": 4,
      "outputs": [
        {
          "output_type": "execute_result",
          "data": {
            "text/plain": [
              "2    0.438467\n",
              "0    0.374128\n",
              "1    0.187404\n",
              "Name: label, dtype: float64"
            ]
          },
          "metadata": {},
          "execution_count": 4
        }
      ]
    },
    {
      "cell_type": "code",
      "metadata": {
        "id": "SiovZKlbOTA0"
      },
      "source": [
        "## Let's encode Neutral as 0, Negative as 1, and Positive as 2"
      ],
      "execution_count": 5,
      "outputs": []
    },
    {
      "cell_type": "code",
      "metadata": {
        "id": "8Xpb8dHcOPIY"
      },
      "source": [
        "#Remove Urls and HTML links\n",
        "def remove_urls(text):\n",
        "    url_remove = re.compile(r'https?://\\S+|www\\.\\S+')\n",
        "    return url_remove.sub(r'', text)\n",
        "train['text_new']=train['text'].apply(lambda x:remove_urls(x))\n",
        "test['text_new']=test['text'].apply(lambda x:remove_urls(x))\n",
        "\n",
        "def remove_html(text):\n",
        "    html=re.compile(r'<.*?>')\n",
        "    return html.sub(r'',text)\n",
        "train['text']=train['text_new'].apply(lambda x:remove_html(x))\n",
        "test['text']=test['text_new'].apply(lambda x:remove_html(x))"
      ],
      "execution_count": 6,
      "outputs": []
    },
    {
      "cell_type": "code",
      "metadata": {
        "trusted": true,
        "id": "4ACpkXxTv1jG"
      },
      "source": [
        "# Lower casing\n",
        "def lower(text):\n",
        "    low_text= text.lower()\n",
        "    return low_text\n",
        "train['text_new']=train['text'].apply(lambda x:lower(x))\n",
        "test['text_new']=test['text'].apply(lambda x:lower(x))\n",
        "\n",
        "\n",
        "# Number removal\n",
        "def remove_num(text):\n",
        "    remove= re.sub(r'\\d+', '', text)\n",
        "    return remove\n",
        "train['text']=train['text_new'].apply(lambda x:remove_num(x))\n",
        "test['text']=test['text_new'].apply(lambda x:remove_num(x))"
      ],
      "execution_count": 7,
      "outputs": []
    },
    {
      "cell_type": "code",
      "metadata": {
        "colab": {
          "base_uri": "https://localhost:8080/"
        },
        "id": "EOonSkc2W2BD",
        "outputId": "ee7af32a-d09f-4ac7-ae6c-5d56fca68bd4"
      },
      "source": [
        "nltk.download('stopwords')"
      ],
      "execution_count": 9,
      "outputs": [
        {
          "output_type": "stream",
          "name": "stdout",
          "text": [
            "[nltk_data] Downloading package stopwords to /root/nltk_data...\n",
            "[nltk_data]   Unzipping corpora/stopwords.zip.\n"
          ]
        },
        {
          "output_type": "execute_result",
          "data": {
            "text/plain": [
              "True"
            ]
          },
          "metadata": {},
          "execution_count": 9
        }
      ]
    },
    {
      "cell_type": "code",
      "metadata": {
        "trusted": true,
        "id": "2A97rjo3v1jH"
      },
      "source": [
        "#Remove stopwords & Punctuations\n",
        "from nltk.corpus import stopwords\n",
        "\", \".join(stopwords.words('english'))\n",
        "STOPWORDS = set(stopwords.words('english'))\n",
        "\n",
        "def punct_remove(text):\n",
        "    punct = re.sub(r\"[^\\w\\s\\d]\",\"\", text)\n",
        "    return punct\n",
        "train['text_new']=train['text'].apply(lambda x:punct_remove(x))\n",
        "test['text_new']=test['text'].apply(lambda x:punct_remove(x))\n",
        "\n",
        "\n",
        "def remove_stopwords(text):\n",
        "    \"\"\"custom function to remove the stopwords\"\"\"\n",
        "    return \" \".join([word for word in str(text).split() if word not in STOPWORDS])\n",
        "train['text']=train['text_new'].apply(lambda x:remove_stopwords(x))\n",
        "test['text']=test['text_new'].apply(lambda x:remove_stopwords(x))"
      ],
      "execution_count": 10,
      "outputs": []
    },
    {
      "cell_type": "code",
      "metadata": {
        "trusted": true,
        "id": "b2nT_8ESv1jH"
      },
      "source": [
        "#Remove mentions and hashtags\n",
        "def remove_mention(x):\n",
        "    text=re.sub(r'@\\w+','',x)\n",
        "    return text\n",
        "train['text_new']=train['text'].apply(lambda x:remove_mention(x))\n",
        "test['text_new']=test['text'].apply(lambda x:remove_mention(x))\n",
        "\n",
        "def remove_hash(x):\n",
        "    text=re.sub(r'#\\w+','',x)\n",
        "    return text\n",
        "train['text']=train['text_new'].apply(lambda x:remove_hash(x))\n",
        "test['text']=test['text_new'].apply(lambda x:remove_hash(x))\n",
        "\n",
        "#Remove extra white space left while removing stuff\n",
        "def remove_space(text):\n",
        "    space_remove = re.sub(r\"\\s+\",\" \",text).strip()\n",
        "    return space_remove\n",
        "train['text_new']=train['text'].apply(lambda x:remove_space(x))\n",
        "test['text_new']=test['text'].apply(lambda x:remove_space(x))\n",
        "test = test.drop(columns=['text_new'])\n",
        "train = train.drop(columns=['text_new'])"
      ],
      "execution_count": 11,
      "outputs": []
    },
    {
      "cell_type": "code",
      "metadata": {
        "_kg_hide-input": true,
        "_kg_hide-output": true,
        "trusted": true,
        "id": "9Hus1Tkkv1jI"
      },
      "source": [
        "stop_words = ['a', 'an', 'the']\n",
        "\n",
        "# Basic cleansing\n",
        "def cleansing(text):\n",
        "    # Tokenize\n",
        "    tokens = text.split(' ')\n",
        "    # Lower case\n",
        "    tokens = [w.lower() for w in tokens]\n",
        "    # Remove stop words\n",
        "    tokens = [w for w in tokens if w not in stop_words]\n",
        "    return ' '.join(tokens)\n",
        "\n",
        "# All-in-one preproce\n",
        "def preprocess_x(x):\n",
        "    processed_x = [cleansing(text) for text in x]\n",
        "    \n",
        "    return processed_x\n",
        "\n",
        "train['text_new']=train['text'].apply(lambda x:preprocess_x(x))\n",
        "test['text_new']=test['text'].apply(lambda x:preprocess_x(x))"
      ],
      "execution_count": 12,
      "outputs": []
    },
    {
      "cell_type": "code",
      "metadata": {
        "trusted": true,
        "id": "-vYwyCUdv1jJ"
      },
      "source": [
        "X = train[\"text\"].tolist()\n",
        "y = train[\"label\"].tolist()\n",
        "\n",
        "X_train, X_test, y_train, y_test = train_test_split(X, y, \n",
        "                                                    test_size=0.10,\n",
        "                                                    random_state = 0)"
      ],
      "execution_count": 26,
      "outputs": []
    },
    {
      "cell_type": "code",
      "metadata": {
        "trusted": true,
        "id": "EKX_Q-Ahv1jJ",
        "colab": {
          "base_uri": "https://localhost:8080/"
        },
        "outputId": "7e85b333-b8e8-47c3-eacf-9d9ccd3fd898"
      },
      "source": [
        "tfidf = TfidfVectorizer(sublinear_tf=True, min_df=5,stop_words='english')\n",
        "\n",
        "# We transform each text into a vector\n",
        "features = tfidf.fit_transform(train.text).toarray()\n",
        "\n",
        "labels = train.label\n",
        "\n",
        "print(\"Each of the {0} tweets is represented by {1} features (TF-IDF score of unigrams and bigrams)\".format(*features.shape))"
      ],
      "execution_count": 29,
      "outputs": [
        {
          "output_type": "stream",
          "name": "stdout",
          "text": [
            "Each of the 41157 tweets is represented by 10615 features (TF-IDF score of unigrams and bigrams)\n"
          ]
        }
      ]
    },
    {
      "cell_type": "code",
      "metadata": {
        "id": "tZJKFrgDbARz"
      },
      "source": [
        "# #### So there are 10615 features produced using Tf-idf\n",
        "# To make vector denser use tfidf = TfidfVectorizer(sublinear_tf=True, min_df=5,ngram_range=(1, 2),stop_words='english')"
      ],
      "execution_count": null,
      "outputs": []
    },
    {
      "cell_type": "code",
      "metadata": {
        "trusted": true,
        "id": "rzW9WHGTv1jL"
      },
      "source": [
        "models = [\n",
        "    RandomForestClassifier(n_estimators=100, max_depth=5, random_state=0),\n",
        "    LinearSVC(),\n",
        "    MultinomialNB(),\n",
        "]\n",
        "\n",
        "# Cross-validation\n",
        "CV = 5\n",
        "cv_df = pd.DataFrame(index=range(CV * len(models)))\n",
        "\n",
        "entries = []\n",
        "for model in models:\n",
        "  model_name = model.__class__.__name__\n",
        "  accuracies = cross_val_score(model, features, labels, scoring='accuracy', cv=CV)\n",
        "  for fold_idx, accuracy in enumerate(accuracies):\n",
        "    entries.append((model_name, fold_idx, accuracy))\n",
        "    \n",
        "cv_df = pd.DataFrame(entries, columns=['model_name', 'fold_idx', 'accuracy'])"
      ],
      "execution_count": 30,
      "outputs": []
    },
    {
      "cell_type": "code",
      "metadata": {
        "trusted": true,
        "id": "ZCPRQclZv1jL",
        "colab": {
          "base_uri": "https://localhost:8080/",
          "height": 175
        },
        "outputId": "c1f4bd8b-d7c0-4ef3-c239-bd79d4bc2bec"
      },
      "source": [
        "mean_accuracy = cv_df.groupby('model_name').accuracy.mean()\n",
        "std_accuracy = cv_df.groupby('model_name').accuracy.std()\n",
        "\n",
        "acc = pd.concat([mean_accuracy, std_accuracy], axis= 1, \n",
        "          ignore_index=True)\n",
        "acc.columns = ['Mean Accuracy', 'Standard deviation']\n",
        "acc"
      ],
      "execution_count": 31,
      "outputs": [
        {
          "output_type": "execute_result",
          "data": {
            "text/html": [
              "<div>\n",
              "<style scoped>\n",
              "    .dataframe tbody tr th:only-of-type {\n",
              "        vertical-align: middle;\n",
              "    }\n",
              "\n",
              "    .dataframe tbody tr th {\n",
              "        vertical-align: top;\n",
              "    }\n",
              "\n",
              "    .dataframe thead th {\n",
              "        text-align: right;\n",
              "    }\n",
              "</style>\n",
              "<table border=\"1\" class=\"dataframe\">\n",
              "  <thead>\n",
              "    <tr style=\"text-align: right;\">\n",
              "      <th></th>\n",
              "      <th>Mean Accuracy</th>\n",
              "      <th>Standard deviation</th>\n",
              "    </tr>\n",
              "    <tr>\n",
              "      <th>model_name</th>\n",
              "      <th></th>\n",
              "      <th></th>\n",
              "    </tr>\n",
              "  </thead>\n",
              "  <tbody>\n",
              "    <tr>\n",
              "      <th>LinearSVC</th>\n",
              "      <td>0.784411</td>\n",
              "      <td>0.004532</td>\n",
              "    </tr>\n",
              "    <tr>\n",
              "      <th>MultinomialNB</th>\n",
              "      <td>0.659791</td>\n",
              "      <td>0.003452</td>\n",
              "    </tr>\n",
              "    <tr>\n",
              "      <th>RandomForestClassifier</th>\n",
              "      <td>0.470029</td>\n",
              "      <td>0.003683</td>\n",
              "    </tr>\n",
              "  </tbody>\n",
              "</table>\n",
              "</div>"
            ],
            "text/plain": [
              "                        Mean Accuracy  Standard deviation\n",
              "model_name                                               \n",
              "LinearSVC                    0.784411            0.004532\n",
              "MultinomialNB                0.659791            0.003452\n",
              "RandomForestClassifier       0.470029            0.003683"
            ]
          },
          "metadata": {},
          "execution_count": 31
        }
      ]
    },
    {
      "cell_type": "code",
      "metadata": {
        "id": "gGJ5m-tMdYe4"
      },
      "source": [
        "### As we can see Linear SVM has the highest accuracy of 78.4%, followed by Naive Bayes."
      ],
      "execution_count": 32,
      "outputs": []
    },
    {
      "cell_type": "code",
      "metadata": {
        "trusted": true,
        "id": "QyT0l0NIv1jM",
        "colab": {
          "base_uri": "https://localhost:8080/",
          "height": 370
        },
        "outputId": "ae75f16b-a06b-4595-a1d5-4dded7d140ea"
      },
      "source": [
        "plt.figure(figsize=(8,5))\n",
        "sns.boxplot(x='model_name', y='accuracy', data=cv_df, color='lightgreen', showmeans=True)\n",
        "plt.title(\"MEAN ACCURACY (cv = 5)\\n\", size=14);"
      ],
      "execution_count": 33,
      "outputs": [
        {
          "output_type": "display_data",
          "data": {
            "image/png": "[encoded data removed]",
            "text/plain": [
              "<Figure size 576x360 with 1 Axes>"
            ]
          },
          "metadata": {
            "needs_background": "light"
          }
        }
      ]
    },
    {
      "cell_type": "code",
      "metadata": {
        "trusted": true,
        "id": "7MlIoogjv1jN"
      },
      "source": [
        "X_train, X_test, y_train, y_test,indices_train,indices_test = train_test_split(features, labels, train.index, test_size=0.10, random_state=1)\n",
        "model =   LinearSVC()\n",
        "model.fit(X_train, y_train)\n",
        "y_pred = model.predict(X_test)\n",
        "\n"
      ],
      "execution_count": 35,
      "outputs": []
    },
    {
      "cell_type": "code",
      "metadata": {
        "trusted": true,
        "id": "HKJhMoNlv1jN",
        "colab": {
          "base_uri": "https://localhost:8080/"
        },
        "outputId": "262bb413-e7ed-4f46-ecd3-1577c4b321ed"
      },
      "source": [
        "# Classification report\n",
        "\n",
        "from sklearn.model_selection import cross_val_score\n",
        "from sklearn.metrics import confusion_matrix\n",
        "from sklearn import metrics\n",
        "\n",
        "print('\\t\\t\\t\\tCLASSIFICATIION METRICS\\n')\n",
        "print(metrics.classification_report(y_test, y_pred, target_names= train['label'].unique()))"
      ],
      "execution_count": 36,
      "outputs": [
        {
          "output_type": "stream",
          "name": "stdout",
          "text": [
            "\t\t\t\tCLASSIFICATIION METRICS\n",
            "\n",
            "              precision    recall  f1-score   support\n",
            "\n",
            "           1       0.80      0.79      0.80      1554\n",
            "           2       0.69      0.67      0.68       760\n",
            "           0       0.82      0.84      0.83      1802\n",
            "\n",
            "    accuracy                           0.79      4116\n",
            "   macro avg       0.77      0.77      0.77      4116\n",
            "weighted avg       0.79      0.79      0.79      4116\n",
            "\n"
          ]
        }
      ]
    },
    {
      "cell_type": "code",
      "metadata": {
        "id": "OKvj3iyZeMNy"
      },
      "source": [
        "# ### We see low F1 scores for Positive (2) tweets as compared to Negative (0) and Neutral (1)"
      ],
      "execution_count": null,
      "outputs": []
    },
    {
      "cell_type": "code",
      "metadata": {
        "id": "Zv0A6SRzeeEv"
      },
      "source": [
        "# Precision talks about how precise/accurate your model is out of those predicted positive, \n",
        "# how many of them are actual positive. Precision is a good measure to determine, when the costs of False Positive is high. For instance, email spam detection."
      ],
      "execution_count": null,
      "outputs": []
    },
    {
      "cell_type": "markdown",
      "metadata": {
        "id": "FrkGeq55v1jO"
      },
      "source": [
        "    Precison = True Positive / (True Positive + False Positive) = True Positive / All Predicted Positive\n"
      ]
    },
    {
      "cell_type": "code",
      "metadata": {
        "id": "ut-H8Xa-ftRs"
      },
      "source": [
        "# Recall actually calculates how many of the Actual Positives our model capture through labeling it as Positive (True Positive). \n",
        "# Recall shall be the model metric we use to select our best model when there is a high cost associated with False Negative. For instance, in fraud detection or sick patient detection. "
      ],
      "execution_count": null,
      "outputs": []
    },
    {
      "cell_type": "markdown",
      "metadata": {
        "id": "oOqT6ZI0gUTy"
      },
      "source": [
        "\n",
        "\n",
        "    Recall = True Positive / (True Positive + False Negative) = True Positive / All Actual Positive\n",
        " \n"
      ]
    },
    {
      "cell_type": "code",
      "metadata": {
        "id": "E50BDKbyf8UJ"
      },
      "source": [
        "# F1 Score might be a better measure to use if we need to seek a balance between Precision and Recall AND there is an uneven class distribution \n",
        "# (large number of Actual Negatives)."
      ],
      "execution_count": null,
      "outputs": []
    },
    {
      "cell_type": "markdown",
      "metadata": {
        "id": "PS0fMhekgYoU"
      },
      "source": [
        "\n",
        "    F1 =  2 * (Precision * Recall) / (Precision + Recall)"
      ]
    },
    {
      "cell_type": "code",
      "metadata": {
        "_kg_hide-input": true,
        "_kg_hide-output": true,
        "trusted": true,
        "id": "1ZxX3UViv1jO",
        "colab": {
          "base_uri": "https://localhost:8080/",
          "height": 143
        },
        "outputId": "48122791-0365-414d-d1eb-883547d0e2cd"
      },
      "source": [
        "def classes_def(x):\n",
        "    if x ==  \"Extremely Positive\":\n",
        "        return \"Positive\"\n",
        "    elif x == \"Extremely Negative\":\n",
        "        return \"Negative\"\n",
        "    elif x == \"Negative\":\n",
        "        return \"Negative\"\n",
        "    elif x ==  \"Positive\":\n",
        "        return \"Positive\"\n",
        "    else:\n",
        "        return \"Neutral\"\n",
        "    \n",
        "\n",
        "train['sentiment']=train['Sentiment'].apply(lambda x:classes_def(x))\n",
        "\n",
        "\n",
        "sentiment_id_df= train[[\"sentiment\",'label']].drop_duplicates()\n",
        "\n",
        "# Dictionaries for future use\n",
        "\n",
        "\n",
        "sentiment_to_id = dict(sentiment_id_df.values)\n",
        "id_to_sentiment = dict(sentiment_id_df[[\"sentiment\",'label']].values)\n",
        "\n",
        "\n",
        "sentiment_id_df\n"
      ],
      "execution_count": 37,
      "outputs": [
        {
          "output_type": "execute_result",
          "data": {
            "text/html": [
              "<div>\n",
              "<style scoped>\n",
              "    .dataframe tbody tr th:only-of-type {\n",
              "        vertical-align: middle;\n",
              "    }\n",
              "\n",
              "    .dataframe tbody tr th {\n",
              "        vertical-align: top;\n",
              "    }\n",
              "\n",
              "    .dataframe thead th {\n",
              "        text-align: right;\n",
              "    }\n",
              "</style>\n",
              "<table border=\"1\" class=\"dataframe\">\n",
              "  <thead>\n",
              "    <tr style=\"text-align: right;\">\n",
              "      <th></th>\n",
              "      <th>sentiment</th>\n",
              "      <th>label</th>\n",
              "    </tr>\n",
              "  </thead>\n",
              "  <tbody>\n",
              "    <tr>\n",
              "      <th>0</th>\n",
              "      <td>Neutral</td>\n",
              "      <td>1</td>\n",
              "    </tr>\n",
              "    <tr>\n",
              "      <th>1</th>\n",
              "      <td>Positive</td>\n",
              "      <td>2</td>\n",
              "    </tr>\n",
              "    <tr>\n",
              "      <th>4</th>\n",
              "      <td>Negative</td>\n",
              "      <td>0</td>\n",
              "    </tr>\n",
              "  </tbody>\n",
              "</table>\n",
              "</div>"
            ],
            "text/plain": [
              "  sentiment label\n",
              "0   Neutral     1\n",
              "1  Positive     2\n",
              "4  Negative     0"
            ]
          },
          "metadata": {},
          "execution_count": 37
        }
      ]
    },
    {
      "cell_type": "code",
      "metadata": {
        "trusted": true,
        "id": "HNkqhppUv1jO",
        "colab": {
          "base_uri": "https://localhost:8080/",
          "height": 535
        },
        "outputId": "a1995c4d-8f10-46c1-fa32-6f74e3961aaa"
      },
      "source": [
        "conf_mat = confusion_matrix(y_test, y_pred)\n",
        "fig, ax = plt.subplots(figsize=(8,8))\n",
        "sns.heatmap(conf_mat, annot=True, cmap=\"Blues\", fmt='d',\n",
        "            xticklabels=sentiment_id_df.label.values, \n",
        "            yticklabels=sentiment_id_df.label.values)\n",
        "train = train.drop(columns=['sentiment'])\n",
        "plt.ylabel('Actual')\n",
        "plt.xlabel('Predicted')\n",
        "plt.title(\"CONFUSION MATRIX - LinearSVC\\n\", size=16);"
      ],
      "execution_count": 38,
      "outputs": [
        {
          "output_type": "display_data",
          "data": {
            "image/png": "[encoded data removed]",
            "text/plain": [
              "<Figure size 576x576 with 2 Axes>"
            ]
          },
          "metadata": {
            "needs_background": "light"
          }
        }
      ]
    }
  ]
}